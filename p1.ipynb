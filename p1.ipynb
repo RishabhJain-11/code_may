{
 "cells": [
  {
   "cell_type": "code",
   "execution_count": 1,
   "id": "b02f85fa",
   "metadata": {},
   "outputs": [],
   "source": [
    "import requests\n",
    "import pandas as pd\n",
    "from bs4 import BeautifulSoup"
   ]
  },
  {
   "cell_type": "code",
   "execution_count": 2,
   "id": "7c1ad11c",
   "metadata": {},
   "outputs": [],
   "source": [
    "HEADERS = ({\"User-Agent\":\"Mozilla/5.0 (Windows NT 10.0; Win64; x64) \\\n",
    "AppleWebKit/537.36 (KHTML, like Gecko) \\\n",
    "Chrome/90.0.4430.212 Safari/537.36\",\"Accept-Language\":\"en-US,en:q=0.5\"})"
   ]
  },
  {
   "cell_type": "code",
   "execution_count": 3,
   "id": "239c88c4",
   "metadata": {},
   "outputs": [],
   "source": [
    "def getData(site_url):\n",
    "    res = requests.get(site_url, headers = HEADERS)\n",
    "    return res.text;\n",
    "\n",
    "def getHtml(site_url):\n",
    "    data = getData(site_url)\n",
    "    soup = BeautifulSoup(data, 'html.parser')\n",
    "    return soup"
   ]
  },
  {
   "cell_type": "code",
   "execution_count": 4,
   "id": "1f629e61",
   "metadata": {},
   "outputs": [],
   "source": [
    "site_url = \"https://www.flipkart.com/lenovo-ideapad-gaming-3-ryzen-7-octa-core-amd-r7-5800h-8-gb-512-gb-ssd-windows-11-home-4-graphics-nvidia-geforce-rtx-3050-15ach6-laptop/product-reviews/itm5c62404b310aa?pid=COMGGMRSDDRGKFGU&lid=LSTCOMGGMRSDDRGKFGUT5XTRV&marketplace=FLIPKART\""
   ]
  },
  {
   "cell_type": "code",
   "execution_count": 5,
   "id": "29f5def0",
   "metadata": {},
   "outputs": [],
   "source": [
    "soup = getHtml(site_url)"
   ]
  },
  {
   "cell_type": "code",
   "execution_count": 8,
   "id": "0247f973",
   "metadata": {},
   "outputs": [
    {
     "name": "stdout",
     "output_type": "stream",
     "text": [
      "['Pritam Tamuli', 'Soumyajit  Biswas', 'Yash Salve', 'King King', 'Haresh  Makwana', 'Flipkart Customer', 'Kara Nuku', 'AYAN SHAIKH', 'Chiku .', 'Rhishikesh Pingle']\n"
     ]
    }
   ],
   "source": [
    "def getName(soup):\n",
    "    name = \"\"\n",
    "    namelist = []\n",
    "    \n",
    "    for item in soup.find_all('p', class_=\"_2sc7ZR _2V5EHH\"):\n",
    "        name = name + item.get_text()\n",
    "        namelist.append(name);\n",
    "        name = \"\"\n",
    "    return namelist\n",
    "\n",
    "name_res = getName(soup)\n",
    "print(name_res)"
   ]
  },
  {
   "cell_type": "code",
   "execution_count": 9,
   "id": "fdacbfe5",
   "metadata": {},
   "outputs": [
    {
     "name": "stdout",
     "output_type": "stream",
     "text": [
      "['5', '5', '5', '5', '5', '5', '5', '5', '5', '5']\n"
     ]
    }
   ],
   "source": [
    "def getRating(soup):\n",
    "    rate = \"\"\n",
    "    ratelist = []\n",
    "    \n",
    "    for item in soup.find_all('div', class_=\"_3LWZlK _1BLPMq\"):\n",
    "        rate = rate + item.get_text()\n",
    "        ratelist.append(rate)\n",
    "        rate = \"\"\n",
    "    return ratelist\n",
    "\n",
    "rate_res = getRating(soup)\n",
    "print(rate_res)"
   ]
  },
  {
   "cell_type": "code",
   "execution_count": 11,
   "id": "9887b8d6",
   "metadata": {},
   "outputs": [
    {
     "name": "stdout",
     "output_type": "stream",
     "text": [
      "['Great product', 'Best in the market!', 'Highly recommended', 'Terrific purchase', 'Awesome', 'Brilliant', 'Super!', 'Awesome', 'Terrific purchase', 'Brilliant']\n"
     ]
    }
   ],
   "source": [
    "def getReview(soup):\n",
    "    review = \"\"\n",
    "    review_list = []\n",
    "    \n",
    "    for item in soup.find_all('p', class_ = '_2-N8zT'):\n",
    "        review = review + item.get_text()\n",
    "        review_list.append(review)\n",
    "        review = \"\"\n",
    "    return review_list\n",
    "\n",
    "review_res = getReview(soup)\n",
    "print(review_res)"
   ]
  },
  {
   "cell_type": "code",
   "execution_count": 12,
   "id": "41c13fd5",
   "metadata": {},
   "outputs": [],
   "source": [
    "data = {\"Name\": name_res, \"Review\": review_res, \"Rating\": rate_res}"
   ]
  },
  {
   "cell_type": "code",
   "execution_count": 13,
   "id": "4158b4de",
   "metadata": {},
   "outputs": [
    {
     "data": {
      "text/html": [
       "<div>\n",
       "<style scoped>\n",
       "    .dataframe tbody tr th:only-of-type {\n",
       "        vertical-align: middle;\n",
       "    }\n",
       "\n",
       "    .dataframe tbody tr th {\n",
       "        vertical-align: top;\n",
       "    }\n",
       "\n",
       "    .dataframe thead th {\n",
       "        text-align: right;\n",
       "    }\n",
       "</style>\n",
       "<table border=\"1\" class=\"dataframe\">\n",
       "  <thead>\n",
       "    <tr style=\"text-align: right;\">\n",
       "      <th></th>\n",
       "      <th>Name</th>\n",
       "      <th>Review</th>\n",
       "      <th>Rating</th>\n",
       "    </tr>\n",
       "  </thead>\n",
       "  <tbody>\n",
       "    <tr>\n",
       "      <th>0</th>\n",
       "      <td>Pritam Tamuli</td>\n",
       "      <td>Great product</td>\n",
       "      <td>5</td>\n",
       "    </tr>\n",
       "    <tr>\n",
       "      <th>1</th>\n",
       "      <td>Soumyajit  Biswas</td>\n",
       "      <td>Best in the market!</td>\n",
       "      <td>5</td>\n",
       "    </tr>\n",
       "    <tr>\n",
       "      <th>2</th>\n",
       "      <td>Yash Salve</td>\n",
       "      <td>Highly recommended</td>\n",
       "      <td>5</td>\n",
       "    </tr>\n",
       "    <tr>\n",
       "      <th>3</th>\n",
       "      <td>King King</td>\n",
       "      <td>Terrific purchase</td>\n",
       "      <td>5</td>\n",
       "    </tr>\n",
       "    <tr>\n",
       "      <th>4</th>\n",
       "      <td>Haresh  Makwana</td>\n",
       "      <td>Awesome</td>\n",
       "      <td>5</td>\n",
       "    </tr>\n",
       "    <tr>\n",
       "      <th>5</th>\n",
       "      <td>Flipkart Customer</td>\n",
       "      <td>Brilliant</td>\n",
       "      <td>5</td>\n",
       "    </tr>\n",
       "    <tr>\n",
       "      <th>6</th>\n",
       "      <td>Kara Nuku</td>\n",
       "      <td>Super!</td>\n",
       "      <td>5</td>\n",
       "    </tr>\n",
       "    <tr>\n",
       "      <th>7</th>\n",
       "      <td>AYAN SHAIKH</td>\n",
       "      <td>Awesome</td>\n",
       "      <td>5</td>\n",
       "    </tr>\n",
       "    <tr>\n",
       "      <th>8</th>\n",
       "      <td>Chiku .</td>\n",
       "      <td>Terrific purchase</td>\n",
       "      <td>5</td>\n",
       "    </tr>\n",
       "    <tr>\n",
       "      <th>9</th>\n",
       "      <td>Rhishikesh Pingle</td>\n",
       "      <td>Brilliant</td>\n",
       "      <td>5</td>\n",
       "    </tr>\n",
       "  </tbody>\n",
       "</table>\n",
       "</div>"
      ],
      "text/plain": [
       "                Name               Review Rating\n",
       "0      Pritam Tamuli        Great product      5\n",
       "1  Soumyajit  Biswas  Best in the market!      5\n",
       "2         Yash Salve   Highly recommended      5\n",
       "3          King King    Terrific purchase      5\n",
       "4    Haresh  Makwana              Awesome      5\n",
       "5  Flipkart Customer            Brilliant      5\n",
       "6          Kara Nuku               Super!      5\n",
       "7        AYAN SHAIKH              Awesome      5\n",
       "8            Chiku .    Terrific purchase      5\n",
       "9  Rhishikesh Pingle            Brilliant      5"
      ]
     },
     "execution_count": 13,
     "metadata": {},
     "output_type": "execute_result"
    }
   ],
   "source": [
    "df = pd.DataFrame(data)\n",
    "df"
   ]
  },
  {
   "cell_type": "code",
   "execution_count": 14,
   "id": "73fbe491",
   "metadata": {},
   "outputs": [
    {
     "data": {
      "text/plain": [
       "Name      0\n",
       "Review    0\n",
       "Rating    0\n",
       "dtype: int64"
      ]
     },
     "execution_count": 14,
     "metadata": {},
     "output_type": "execute_result"
    }
   ],
   "source": [
    "df.isnull().sum()"
   ]
  },
  {
   "cell_type": "code",
   "execution_count": null,
   "id": "b2eaeced",
   "metadata": {},
   "outputs": [],
   "source": []
  },
  {
   "cell_type": "code",
   "execution_count": 24,
   "id": "f57b567c",
   "metadata": {},
   "outputs": [],
   "source": [
    "# m = pd.concat([df1, df2, df3])\n",
    "# m"
   ]
  },
  {
   "cell_type": "code",
   "execution_count": 25,
   "id": "6e7748f8",
   "metadata": {},
   "outputs": [],
   "source": [
    "# sort_val = df.sort_values(\"xyz\", ascending = False)\n",
    "# sort_val"
   ]
  },
  {
   "cell_type": "code",
   "execution_count": null,
   "id": "7a9d3aa8",
   "metadata": {},
   "outputs": [],
   "source": [
    "pivot_table = pd.pivot_table(df, index = ['Type', 'Category'], values = 'comment')\n",
    "print(pivot_table)"
   ]
  }
 ],
 "metadata": {
  "kernelspec": {
   "display_name": "Python 3 (ipykernel)",
   "language": "python",
   "name": "python3"
  },
  "language_info": {
   "codemirror_mode": {
    "name": "ipython",
    "version": 3
   },
   "file_extension": ".py",
   "mimetype": "text/x-python",
   "name": "python",
   "nbconvert_exporter": "python",
   "pygments_lexer": "ipython3",
   "version": "3.9.13"
  }
 },
 "nbformat": 4,
 "nbformat_minor": 5
}
