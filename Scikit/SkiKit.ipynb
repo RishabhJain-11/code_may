{
 "cells": [
  {
   "cell_type": "code",
   "execution_count": 4,
   "id": "0bcc58d6",
   "metadata": {},
   "outputs": [],
   "source": [
    "# from sklearn import neighbors, datasets, preprocessing\n",
    "# from sklearn.model_selection import train_test_split # train and test\n",
    "# from sklearn.metrics import accuracy_score # accuracy \n",
    "# import pandas as pd\n",
    "\n",
    "# d = pd.read_csv(\"iris.csv\")\n",
    "# # iris = datasets.load_iris()\n",
    "# X, y = d.data[:, :2], d.target \n",
    "# X_train, X_test, y_train, y_test = train_test_split(X, y, random_state = 33)\n",
    "# scaler = preprocessingStandardScaler().fit(X_train)\n",
    "# X_train = scaler.transform(X_train)\n",
    "# X_test = scaler.transform(X_test)\n",
    "# knn = neighbours.KNeighboursClassifier(n_neighbours=5)\n",
    "# knn.fit(X_train, y_train)\n",
    "# y_pred = knn.predict(X_test)\n",
    "# accuracy_score(y_test, y_pred)"
   ]
  },
  {
   "cell_type": "code",
   "execution_count": 7,
   "id": "29f1cbcf",
   "metadata": {},
   "outputs": [],
   "source": [
    "import numpy as np \n",
    "x = np.random.random((10, 5))\n",
    "y = np.array(['M','M','F','F','M','F','M','M','F','F','F'])\n",
    "x[x < 0.7] = 0"
   ]
  },
  {
   "cell_type": "code",
   "execution_count": 9,
   "id": "71780f01",
   "metadata": {},
   "outputs": [],
   "source": [
    "#Preprocessing the data \n",
    "#Standardization\n",
    "\n",
    "# from sklearn.preprocessing import StandardScaler\n",
    "# scaler = StandardScaler().fit(X_train)\n",
    "# standardized_X = scaler.transform(X_train)\n",
    "# standardized_X_test = scaler.transform(X_test)"
   ]
  },
  {
   "cell_type": "code",
   "execution_count": 10,
   "id": "61ce8e80",
   "metadata": {},
   "outputs": [],
   "source": [
    "#Normalization\n",
    "# from sklearn.preprocessing import Normalizer\n",
    "# scaler = Normalizer().fit(X_train)\n",
    "# normalized_X = scaler.transform(X_train)\n",
    "# normalized_X_test = scaler.transform(X_test)"
   ]
  },
  {
   "cell_type": "code",
   "execution_count": 12,
   "id": "6b1331b7",
   "metadata": {},
   "outputs": [],
   "source": [
    "#Binarization\n",
    "# from sklearn.preprocessing import Binarizer\n",
    "# binarizer = Binarizer(threshold=0.0).fit(X)\n",
    "# binary_X = binarizer.transform(X)"
   ]
  },
  {
   "cell_type": "code",
   "execution_count": 14,
   "id": "012c8b57",
   "metadata": {},
   "outputs": [],
   "source": [
    "# Encoding Categorical Features\n",
    "# from sklearn.preprocessing import LabelEncoder\n",
    "# enc = LabelEncoder()\n",
    "# y = enc.fit_transform(y)"
   ]
  },
  {
   "cell_type": "code",
   "execution_count": null,
   "id": "62404c56",
   "metadata": {},
   "outputs": [],
   "source": []
  },
  {
   "cell_type": "code",
   "execution_count": null,
   "id": "5632c449",
   "metadata": {},
   "outputs": [],
   "source": []
  },
  {
   "cell_type": "code",
   "execution_count": null,
   "id": "ac1e0954",
   "metadata": {},
   "outputs": [],
   "source": []
  }
 ],
 "metadata": {
  "kernelspec": {
   "display_name": "Python 3 (ipykernel)",
   "language": "python",
   "name": "python3"
  },
  "language_info": {
   "codemirror_mode": {
    "name": "ipython",
    "version": 3
   },
   "file_extension": ".py",
   "mimetype": "text/x-python",
   "name": "python",
   "nbconvert_exporter": "python",
   "pygments_lexer": "ipython3",
   "version": "3.9.13"
  }
 },
 "nbformat": 4,
 "nbformat_minor": 5
}
